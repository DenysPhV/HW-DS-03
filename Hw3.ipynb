{
 "cells": [
  {
   "cell_type": "code",
   "execution_count": 2,
   "id": "460da373-2d8b-485e-a59b-ffc335726d41",
   "metadata": {},
   "outputs": [],
   "source": [
    "import numpy as np\n",
    "\n",
    "def linear_hypothesis(theta, X):\n",
    "    hypothesis = np.dot(X, theta)\n",
    "    return hypothesis"
   ]
  },
  {
   "cell_type": "code",
   "execution_count": 3,
   "id": "aad416dd-9a09-4b5c-8814-8469d4aec888",
   "metadata": {},
   "outputs": [],
   "source": [
    "def mean_squared_error():\n",
    "    # Обчислення квадратів різниці між реальними та прогнозованими значеннями\n",
    "    squared_errors = (y_true - y_pred) ** 2\n",
    "    # Середнє значення квадратів помилок\n",
    "    mse = np.mean(squared_errors)\n",
    "    return mse"
   ]
  },
  {
   "cell_type": "code",
   "execution_count": null,
   "id": "df4eaa40-4ba6-4550-adcd-f6fda5364bc6",
   "metadata": {},
   "outputs": [],
   "source": []
  }
 ],
 "metadata": {
  "kernelspec": {
   "display_name": "Python 3 (ipykernel)",
   "language": "python",
   "name": "python3"
  },
  "language_info": {
   "codemirror_mode": {
    "name": "ipython",
    "version": 3
   },
   "file_extension": ".py",
   "mimetype": "text/x-python",
   "name": "python",
   "nbconvert_exporter": "python",
   "pygments_lexer": "ipython3",
   "version": "3.11.3"
  }
 },
 "nbformat": 4,
 "nbformat_minor": 5
}
