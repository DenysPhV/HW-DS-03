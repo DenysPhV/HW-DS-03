{
 "cells": [
  {
   "cell_type": "code",
   "execution_count": 1,
   "id": "0a93fa56-01a8-4d49-afbe-74478adca47b",
   "metadata": {},
   "outputs": [],
   "source": [
    "import numpy as np\n",
    "import pandas as pd"
   ]
  },
  {
   "cell_type": "code",
   "execution_count": 4,
   "id": "460da373-2d8b-485e-a59b-ffc335726d41",
   "metadata": {},
   "outputs": [],
   "source": [
    "# напишіть функцію гіпотези лінійної регресії у векторному вигляді\n",
    "def h(X, w):\n",
    "  return np.dot(X, w)"
   ]
  },
  {
   "cell_type": "code",
   "execution_count": 3,
   "id": "aad416dd-9a09-4b5c-8814-8469d4aec888",
   "metadata": {},
   "outputs": [],
   "source": [
    "#  створіть функцію для обчислення функції втрат у векторному вигляді;\n",
    "def loss_function(X, y, w):\n",
    "  return np.square(h(X, w) - y).sum() / (2 * len(X))"
   ]
  },
  {
   "cell_type": "code",
   "execution_count": 2,
   "id": "df4eaa40-4ba6-4550-adcd-f6fda5364bc6",
   "metadata": {},
   "outputs": [],
   "source": [
    "#  реалізуйте один крок градієнтного спуску;\n",
    "def gradient_step(X, y, w, learning_rate):\n",
    "  m = len(y)\n",
    "  grad = (X.T @ (h(X, w) - y)) / m\n",
    "  w -= learning_rate * grad\n",
    "  return w"
   ]
  },
  {
   "cell_type": "code",
   "execution_count": 19,
   "id": "cb3103c4-3bf5-470e-8ee5-67ff889037e4",
   "metadata": {},
   "outputs": [],
   "source": [
    "def gradient(X, y, learning_rate, num_iter, eps):\n",
    "  ones = np.ones((X.shape[0], 1))\n",
    "  X = np.hstack((ones, X))\n",
    "\n",
    "  w = np.zeros(X.shape[1])  # Initialize weights\n",
    "\n",
    "  loss = loss_function(X, y, w)\n",
    "  loss_history = [loss]\n",
    "\n",
    "  for _ in range(num_iterations):\n",
    "    w= gradient_step(X, y, w, learning_rate)\n",
    "\n",
    "    loss = loss_function(X, y, w)\n",
    "    if abs(loss - loss_history[-1]) < eps:\n",
    "      loss_history.append(loss)\n",
    "      break\n",
    "\n",
    "    loss_history.append(loss)\n",
    "  return w, loss_history"
   ]
  },
  {
   "cell_type": "code",
   "execution_count": 20,
   "id": "5e2793b7-ced4-4284-872a-ceda061b5dbe",
   "metadata": {},
   "outputs": [
    {
     "name": "stdout",
     "output_type": "stream",
     "text": [
      "Gradient Descent - w: [4766729.23852767  821968.6638504   696447.15403634  300259.73739255]\n",
      "Analytical Solution - Optimal w: [4766729.24770642  821968.58935343  696447.75898579  300259.16468032]\n"
     ]
    }
   ],
   "source": [
    "#  знайдіть найкращі параметри $\\vec{w}$ для датасету прогнозуючу ціну на будинок залежно від площі, кількості ванних кімнат та кількості спалень;\n",
    "#  знайдіть ці ж параметри за допомогою аналітичного рішення;\n",
    "#  порівняйте отримані результати\n",
    "\n",
    "df = pd.read_csv(\"Housing.csv\")\n",
    "norm = df.copy()\n",
    "columns = ['price', 'area', 'bedrooms', 'bathrooms']\n",
    "for column in columns[1:]:\n",
    "    norm[column] = (df[column] - df[column].mean()) / df[column].std()\n",
    "\n",
    "# Дані для лінійної регресії\n",
    "X = norm[['area', 'bathrooms', 'bedrooms']].values\n",
    "y = norm['price'].values\n",
    "\n",
    "\n",
    "# Налаштування гіперпараметрів\n",
    "learning_rate = 0.001\n",
    "num_iterations = 100000\n",
    "eps = 1e-12\n",
    "\n",
    "# Градієнтний спуск\n",
    "w_gradient, loss_history = gradient(X, y, learning_rate, num_iterations, eps)\n",
    "print('Gradient Descent - w:', w_gradient)\n",
    "    \n",
    "# Аналітичний розв'язок\n",
    "ones = np.ones((X.shape[0], 1))\n",
    "X = np.hstack((ones, X))\n",
    "w_analytical = np.linalg.pinv(X.T @ X) @ X.T @ y\n",
    "print('Analytical Solution - Optimal w:', w_analytical)"
   ]
  },
  {
   "cell_type": "code",
   "execution_count": 21,
   "id": "a5104847-2474-490f-96f1-fc6ff6799c74",
   "metadata": {},
   "outputs": [],
   "source": []
  },
  {
   "cell_type": "code",
   "execution_count": 22,
   "id": "257c67d6-f7e5-4f25-9816-f2f5fcdb688c",
   "metadata": {},
   "outputs": [],
   "source": []
  },
  {
   "cell_type": "code",
   "execution_count": null,
   "id": "8db3a6f1-321a-4389-893f-3eff70a9cef1",
   "metadata": {},
   "outputs": [],
   "source": []
  },
  {
   "cell_type": "code",
   "execution_count": null,
   "id": "43f074c6-3a0e-4981-8c0f-05592cdf85fc",
   "metadata": {},
   "outputs": [],
   "source": []
  }
 ],
 "metadata": {
  "kernelspec": {
   "display_name": "Python 3 (ipykernel)",
   "language": "python",
   "name": "python3"
  },
  "language_info": {
   "codemirror_mode": {
    "name": "ipython",
    "version": 3
   },
   "file_extension": ".py",
   "mimetype": "text/x-python",
   "name": "python",
   "nbconvert_exporter": "python",
   "pygments_lexer": "ipython3",
   "version": "3.11.3"
  }
 },
 "nbformat": 4,
 "nbformat_minor": 5
}
