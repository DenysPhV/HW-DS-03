{
 "cells": [
  {
   "cell_type": "code",
   "execution_count": 79,
   "id": "460da373-2d8b-485e-a59b-ffc335726d41",
   "metadata": {},
   "outputs": [
    {
     "name": "stdout",
     "output_type": "stream",
     "text": [
      "[16.]\n"
     ]
    }
   ],
   "source": [
    "# напишіть функцію гіпотези лінійної регресії у векторному вигляді\n",
    "import numpy as np\n",
    "from sklearn.linear_model import LinearRegression\n",
    "\n",
    "X = np.array([\n",
    "    [1, 1],\n",
    "    [1, 2],\n",
    "    [2, 2],\n",
    "    [2, 3]\n",
    "])\n",
    "\n",
    "y = np.dot(X, np.array([1, 2])) + 3\n",
    "\n",
    "regressor = LinearRegression().fit(X, y)\n",
    "\n",
    "print(regressor.predict(np.array([[3, 5]])))"
   ]
  },
  {
   "cell_type": "code",
   "execution_count": 87,
   "id": "aad416dd-9a09-4b5c-8814-8469d4aec888",
   "metadata": {},
   "outputs": [
    {
     "name": "stdout",
     "output_type": "stream",
     "text": [
      "8.5\n"
     ]
    }
   ],
   "source": [
    "#  створіть функцію для обчислення функції втрат у векторному вигляді;\n",
    "m = len(y)\n",
    "predictions = np.dot(X, np.array([1, 2])) + 3\n",
    "squared_errors = (predictions - y) ** 2\n",
    "loss = (1 / (2 * m)) * np.sum(squared_errors)\n",
    "print(loss)"
   ]
  },
  {
   "cell_type": "code",
   "execution_count": 90,
   "id": "df4eaa40-4ba6-4550-adcd-f6fda5364bc6",
   "metadata": {},
   "outputs": [
    {
     "name": "stdout",
     "output_type": "stream",
     "text": [
      "[ 6  8  9 11]\n"
     ]
    }
   ],
   "source": [
    "#  реалізуйте один крок градієнтного спуску;\n",
    "X = np.array([\n",
    "    [1, 1],\n",
    "    [1, 2],\n",
    "    [2, 2],\n",
    "    [2, 3]\n",
    "])\n",
    "\n",
    "y = np.dot(X, np.array([1, 2])) + 3\n",
    "\n",
    "# Визначте правильний вектор ваг (з урахуванням кількості ознак)\n",
    "w = np.array([1, 2])\n",
    "\n",
    "# Обчисліть прогноз\n",
    "predictions = np.dot(X, w) + 3\n",
    "print(predictions)"
   ]
  },
  {
   "cell_type": "code",
   "execution_count": 80,
   "id": "58f3a022-9ced-4a32-98f2-6f855bd0ed2c",
   "metadata": {},
   "outputs": [
    {
     "name": "stdout",
     "output_type": "stream",
     "text": [
      "RMSE: 5119944.602172813\n",
      "MAE: 4766729.247706422\n"
     ]
    }
   ],
   "source": [
    "#  знайдіть найкращі параметри $\\vec{w}$ для датасету прогнозуючу ціну на будинок залежно від площі, кількості ванних кімнат та кількості спалень;\n",
    "import numpy as np\n",
    "import pandas as pd\n",
    "from sklearn.metrics import mean_squared_error, mean_absolute_error\n",
    "def load_data(file_path):\n",
    "    data = pd.read_csv(file_path)\n",
    "    return data\n",
    "\n",
    "data = load_data('Housing.csv')\n",
    "# Вибір ознак та цільової змінної\n",
    "X = data[['area', 'bathrooms', 'bedrooms']]\n",
    "y = data['price']\n",
    "\n",
    "def initialize_weights(num_features):\n",
    "    # Ініціалізуємо ваги як вектор з нулів\n",
    "    return np.zeros(num_features)\n",
    "\n",
    "# Ініціалізація параметрів моделі\n",
    "w = initialize_weights(X.shape[1])\n",
    "\n",
    "# Налаштування гіперпараметрів\n",
    "learning_rate = 0.01\n",
    "num_iterations = 1000\n",
    "\n",
    "# Градієнтний спуск\n",
    "for i in range(num_iterations):\n",
    "    # Обчислення градієнту та оновлення ваг\n",
    "    w = gradient_descent_step(X, y, w, learning_rate)\n",
    "    \n",
    "# Прогнозування\n",
    "predictions = X.dot(w)\n",
    "\n",
    "# Заміна пропущених значень нулями\n",
    "y = y.fillna(0)\n",
    "predictions = predictions.fillna(0)\n",
    "\n",
    "# Оцінка якості моделі\n",
    "mse = mean_squared_error(y, predictions)\n",
    "mae = mean_absolute_error(y, predictions)\n",
    "\n",
    "# Виведення результатів\n",
    "print(\"RMSE:\", np.sqrt(mse))\n",
    "print(\"MAE:\", mae)"
   ]
  },
  {
   "cell_type": "code",
   "execution_count": 56,
   "id": "a5104847-2474-490f-96f1-fc6ff6799c74",
   "metadata": {},
   "outputs": [
    {
     "name": "stdout",
     "output_type": "stream",
     "text": [
      "Аналітичний розв'язок:\n",
      "w0: -173171.60763263894\n",
      "w1: 378.7627535851033\n",
      "w2: 1386049.4977909997\n",
      "w3: 406820.0337691835\n"
     ]
    }
   ],
   "source": [
    "#  знайдіть ці ж параметри за допомогою аналітичного рішення;\n",
    "\n",
    "# Додайте стовпець одиниць для ваги w0\n",
    "X.loc[:, 'intercept'] = 1\n",
    "\n",
    "# Обчислення аналітичного розв'язку\n",
    "XtX = X.T.dot(X)\n",
    "Xty = X.T.dot(y)\n",
    "w = np.linalg.solve(XtX, Xty)\n",
    "\n",
    "# Виведення результатів\n",
    "print(\"Аналітичний розв'язок:\")\n",
    "print(\"w0:\", w[3])\n",
    "print(\"w1:\", w[0])\n",
    "print(\"w2:\", w[1])\n",
    "print(\"w3:\", w[2])\n"
   ]
  },
  {
   "cell_type": "code",
   "execution_count": 57,
   "id": "257c67d6-f7e5-4f25-9816-f2f5fcdb688c",
   "metadata": {},
   "outputs": [
    {
     "name": "stdout",
     "output_type": "stream",
     "text": [
      "\n",
      "Вагові коефіцієнти (аналітичне рішення з регуляризацією Ridge):\n",
      "[-8.08678898e+04 -8.08678898e+04  3.79080102e+02  1.37470918e+06\n",
      "  4.07381353e+05]\n",
      "Оцінка якості моделі (градієнтний спуск):\n",
      "RMSE: 7740877192.585349\n",
      "MAE: 7134148600.070046\n",
      "\n",
      "Вагові коефіцієнти (аналітичне рішення):\n",
      "[-8.08678898e+04 -8.08678898e+04  3.79080102e+02  1.37470918e+06\n",
      "  4.07381353e+05]\n"
     ]
    },
    {
     "name": "stderr",
     "output_type": "stream",
     "text": [
      "C:\\Users\\User\\AppData\\Local\\Temp\\ipykernel_23548\\1064371984.py:8: SettingWithCopyWarning: \n",
      "A value is trying to be set on a copy of a slice from a DataFrame.\n",
      "Try using .loc[row_indexer,col_indexer] = value instead\n",
      "\n",
      "See the caveats in the documentation: https://pandas.pydata.org/pandas-docs/stable/user_guide/indexing.html#returning-a-view-versus-a-copy\n",
      "  X['intercept'] = 1\n"
     ]
    },
    {
     "ename": "ValueError",
     "evalue": "Dot product shape mismatch, (545, 4) vs (5,)",
     "output_type": "error",
     "traceback": [
      "\u001b[1;31m---------------------------------------------------------------------------\u001b[0m",
      "\u001b[1;31mValueError\u001b[0m                                Traceback (most recent call last)",
      "\u001b[1;32m~\\AppData\\Local\\Temp\\ipykernel_23548\\1064371984.py\u001b[0m in \u001b[0;36m?\u001b[1;34m()\u001b[0m\n\u001b[0;32m     40\u001b[0m \u001b[0mprint\u001b[0m\u001b[1;33m(\u001b[0m\u001b[1;34m\"\\nВагові коефіцієнти (аналітичне рішення):\"\u001b[0m\u001b[1;33m)\u001b[0m\u001b[1;33m\u001b[0m\u001b[1;33m\u001b[0m\u001b[0m\n\u001b[0;32m     41\u001b[0m \u001b[0mprint\u001b[0m\u001b[1;33m(\u001b[0m\u001b[0mw_analytical\u001b[0m\u001b[1;33m)\u001b[0m\u001b[1;33m\u001b[0m\u001b[1;33m\u001b[0m\u001b[0m\n\u001b[0;32m     42\u001b[0m \u001b[1;33m\u001b[0m\u001b[0m\n\u001b[0;32m     43\u001b[0m \u001b[1;31m# Оцінка якості моделі для аналітичного рішення\u001b[0m\u001b[1;33m\u001b[0m\u001b[1;33m\u001b[0m\u001b[0m\n\u001b[1;32m---> 44\u001b[1;33m \u001b[0mpredictions_analytical\u001b[0m \u001b[1;33m=\u001b[0m \u001b[0mX\u001b[0m\u001b[1;33m.\u001b[0m\u001b[0mdot\u001b[0m\u001b[1;33m(\u001b[0m\u001b[0mw_analytical\u001b[0m\u001b[1;33m)\u001b[0m\u001b[1;33m\u001b[0m\u001b[1;33m\u001b[0m\u001b[0m\n\u001b[0m\u001b[0;32m     45\u001b[0m \u001b[0mmse_analytical\u001b[0m \u001b[1;33m=\u001b[0m \u001b[0mmean_squared_error\u001b[0m\u001b[1;33m(\u001b[0m\u001b[0my\u001b[0m\u001b[1;33m,\u001b[0m \u001b[0mpredictions_analytical\u001b[0m\u001b[1;33m)\u001b[0m\u001b[1;33m\u001b[0m\u001b[1;33m\u001b[0m\u001b[0m\n\u001b[0;32m     46\u001b[0m \u001b[0mmae_analytical\u001b[0m \u001b[1;33m=\u001b[0m \u001b[0mmean_absolute_error\u001b[0m\u001b[1;33m(\u001b[0m\u001b[0my\u001b[0m\u001b[1;33m,\u001b[0m \u001b[0mpredictions_analytical\u001b[0m\u001b[1;33m)\u001b[0m\u001b[1;33m\u001b[0m\u001b[1;33m\u001b[0m\u001b[0m\n\u001b[0;32m     47\u001b[0m \u001b[1;33m\u001b[0m\u001b[0m\n",
      "\u001b[1;32m~\\AppData\\Local\\Programs\\Python\\Python311\\Lib\\site-packages\\pandas\\core\\frame.py\u001b[0m in \u001b[0;36m?\u001b[1;34m(self, other)\u001b[0m\n\u001b[0;32m   1643\u001b[0m             \u001b[0mleft\u001b[0m \u001b[1;33m=\u001b[0m \u001b[0mself\u001b[0m\u001b[1;33m\u001b[0m\u001b[1;33m\u001b[0m\u001b[0m\n\u001b[0;32m   1644\u001b[0m             \u001b[0mlvals\u001b[0m \u001b[1;33m=\u001b[0m \u001b[0mself\u001b[0m\u001b[1;33m.\u001b[0m\u001b[0mvalues\u001b[0m\u001b[1;33m\u001b[0m\u001b[1;33m\u001b[0m\u001b[0m\n\u001b[0;32m   1645\u001b[0m             \u001b[0mrvals\u001b[0m \u001b[1;33m=\u001b[0m \u001b[0mnp\u001b[0m\u001b[1;33m.\u001b[0m\u001b[0masarray\u001b[0m\u001b[1;33m(\u001b[0m\u001b[0mother\u001b[0m\u001b[1;33m)\u001b[0m\u001b[1;33m\u001b[0m\u001b[1;33m\u001b[0m\u001b[0m\n\u001b[0;32m   1646\u001b[0m             \u001b[1;32mif\u001b[0m \u001b[0mlvals\u001b[0m\u001b[1;33m.\u001b[0m\u001b[0mshape\u001b[0m\u001b[1;33m[\u001b[0m\u001b[1;36m1\u001b[0m\u001b[1;33m]\u001b[0m \u001b[1;33m!=\u001b[0m \u001b[0mrvals\u001b[0m\u001b[1;33m.\u001b[0m\u001b[0mshape\u001b[0m\u001b[1;33m[\u001b[0m\u001b[1;36m0\u001b[0m\u001b[1;33m]\u001b[0m\u001b[1;33m:\u001b[0m\u001b[1;33m\u001b[0m\u001b[1;33m\u001b[0m\u001b[0m\n\u001b[1;32m-> 1647\u001b[1;33m                 raise ValueError(\n\u001b[0m\u001b[0;32m   1648\u001b[0m                     \u001b[1;34mf\"Dot product shape mismatch, {lvals.shape} vs {rvals.shape}\"\u001b[0m\u001b[1;33m\u001b[0m\u001b[1;33m\u001b[0m\u001b[0m\n\u001b[0;32m   1649\u001b[0m                 )\n\u001b[0;32m   1650\u001b[0m \u001b[1;33m\u001b[0m\u001b[0m\n",
      "\u001b[1;31mValueError\u001b[0m: Dot product shape mismatch, (545, 4) vs (5,)"
     ]
    }
   ],
   "source": [
    "#  порівняйте отримані результати\n",
    "from sklearn.linear_model import Ridge\n",
    "\n",
    "data = load_data('Housing.csv')\n",
    "X = data[['area', 'bathrooms', 'bedrooms']]\n",
    "y = data['price']\n",
    "\n",
    "X['intercept'] = 1\n",
    "X = X[['intercept', 'area', 'bathrooms', 'bedrooms']]\n",
    "\n",
    "\n",
    "\n",
    "def analytical_solution(X, y, alpha):\n",
    "    # Додамо стовпець із одиницями для ваги intercept\n",
    "    X = np.column_stack((np.ones(X.shape[0]), X))\n",
    "    \n",
    "    # Використовуємо регресію Ridge\n",
    "    ridge = Ridge(alpha=alpha, fit_intercept=False)\n",
    "    ridge.fit(X, y)\n",
    "    w = ridge.coef_\n",
    "    return w\n",
    "\n",
    "# Ініціалізація параметрів моделі\n",
    "alpha = 1.0  # Параметр регуляризації (можна налаштувати)\n",
    "w_analytical_ridge = analytical_solution(X, y, alpha)\n",
    "\n",
    "print(\"\\nВагові коефіцієнти (аналітичне рішення з регуляризацією Ridge):\")\n",
    "print(w_analytical_ridge)\n",
    "\n",
    "# Оцінка якості моделі для градієнтного спуску\n",
    "predictions = X.dot(w)\n",
    "mse = mean_squared_error(y, predictions)\n",
    "mae = mean_absolute_error(y, predictions)\n",
    "print(\"Оцінка якості моделі (градієнтний спуск):\")\n",
    "print(\"RMSE:\", np.sqrt(mse))\n",
    "print(\"MAE:\", mae)\n",
    "\n",
    "# Вагові коефіцієнти, отримані аналітичним рішенням\n",
    "w_analytical = analytical_solution(X, y, alpha)\n",
    "print(\"\\nВагові коефіцієнти (аналітичне рішення):\")\n",
    "print(w_analytical)\n",
    "\n",
    "# Оцінка якості моделі для аналітичного рішення\n",
    "predictions_analytical = X.dot(w_analytical)\n",
    "mse_analytical = mean_squared_error(y, predictions_analytical)\n",
    "mae_analytical = mean_absolute_error(y, predictions_analytical)\n",
    "\n",
    "print(\"Оцінка якості моделі (аналітичне рішення):\")\n",
    "print(\"RMSE:\", np.sqrt(mse_analytical))\n",
    "print(\"MAE:\", mae_analytical)"
   ]
  },
  {
   "cell_type": "code",
   "execution_count": null,
   "id": "8db3a6f1-321a-4389-893f-3eff70a9cef1",
   "metadata": {},
   "outputs": [],
   "source": []
  },
  {
   "cell_type": "code",
   "execution_count": null,
   "id": "43f074c6-3a0e-4981-8c0f-05592cdf85fc",
   "metadata": {},
   "outputs": [],
   "source": []
  }
 ],
 "metadata": {
  "kernelspec": {
   "display_name": "Python 3 (ipykernel)",
   "language": "python",
   "name": "python3"
  },
  "language_info": {
   "codemirror_mode": {
    "name": "ipython",
    "version": 3
   },
   "file_extension": ".py",
   "mimetype": "text/x-python",
   "name": "python",
   "nbconvert_exporter": "python",
   "pygments_lexer": "ipython3",
   "version": "3.11.3"
  }
 },
 "nbformat": 4,
 "nbformat_minor": 5
}
